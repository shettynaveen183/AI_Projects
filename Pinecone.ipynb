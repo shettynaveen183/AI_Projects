{
 "cells": [
  {
   "cell_type": "code",
   "execution_count": 2,
   "metadata": {},
   "outputs": [
    {
     "name": "stdout",
     "output_type": "stream",
     "text": [
      "Collecting pinecone\n",
      "  Downloading pinecone-5.4.0-py3-none-any.whl.metadata (19 kB)\n",
      "Requirement already satisfied: certifi>=2019.11.17 in c:\\users\\shett\\anaconda3\\envs\\langchain_env\\lib\\site-packages (from pinecone) (2024.8.30)\n",
      "Collecting pinecone-plugin-inference<3.0.0,>=2.0.0 (from pinecone)\n",
      "  Downloading pinecone_plugin_inference-2.0.1-py3-none-any.whl.metadata (2.2 kB)\n",
      "Collecting pinecone-plugin-interface<0.0.8,>=0.0.7 (from pinecone)\n",
      "  Downloading pinecone_plugin_interface-0.0.7-py3-none-any.whl.metadata (1.2 kB)\n",
      "Requirement already satisfied: python-dateutil>=2.5.3 in c:\\users\\shett\\anaconda3\\envs\\langchain_env\\lib\\site-packages (from pinecone) (2.9.0.post0)\n",
      "Requirement already satisfied: tqdm>=4.64.1 in c:\\users\\shett\\anaconda3\\envs\\langchain_env\\lib\\site-packages (from pinecone) (4.67.0)\n",
      "Requirement already satisfied: typing-extensions>=3.7.4 in c:\\users\\shett\\anaconda3\\envs\\langchain_env\\lib\\site-packages (from pinecone) (4.12.2)\n",
      "Requirement already satisfied: urllib3>=1.26.0 in c:\\users\\shett\\anaconda3\\envs\\langchain_env\\lib\\site-packages (from pinecone) (2.2.3)\n",
      "Requirement already satisfied: six>=1.5 in c:\\users\\shett\\anaconda3\\envs\\langchain_env\\lib\\site-packages (from python-dateutil>=2.5.3->pinecone) (1.16.0)\n",
      "Requirement already satisfied: colorama in c:\\users\\shett\\anaconda3\\envs\\langchain_env\\lib\\site-packages (from tqdm>=4.64.1->pinecone) (0.4.6)\n",
      "Downloading pinecone-5.4.0-py3-none-any.whl (427 kB)\n",
      "Downloading pinecone_plugin_inference-2.0.1-py3-none-any.whl (84 kB)\n",
      "Downloading pinecone_plugin_interface-0.0.7-py3-none-any.whl (6.2 kB)\n",
      "Installing collected packages: pinecone-plugin-interface, pinecone-plugin-inference, pinecone\n",
      "Successfully installed pinecone-5.4.0 pinecone-plugin-inference-2.0.1 pinecone-plugin-interface-0.0.7\n",
      "Note: you may need to restart the kernel to use updated packages.\n"
     ]
    }
   ],
   "source": [
    "pip install pinecone"
   ]
  },
  {
   "cell_type": "code",
   "execution_count": 3,
   "metadata": {},
   "outputs": [
    {
     "name": "stderr",
     "output_type": "stream",
     "text": [
      "c:\\Users\\shett\\anaconda3\\envs\\langchain_env\\lib\\site-packages\\pinecone\\data\\index.py:1: TqdmWarning: IProgress not found. Please update jupyter and ipywidgets. See https://ipywidgets.readthedocs.io/en/stable/user_install.html\n",
      "  from tqdm.autonotebook import tqdm\n"
     ]
    }
   ],
   "source": [
    "import pinecone\n",
    "from pinecone import Pinecone,ServerlessSpec\n",
    "import os"
   ]
  },
  {
   "cell_type": "code",
   "execution_count": 4,
   "metadata": {},
   "outputs": [],
   "source": [
    "from dotenv import load_dotenv, find_dotenv"
   ]
  },
  {
   "cell_type": "code",
   "execution_count": 5,
   "metadata": {},
   "outputs": [
    {
     "data": {
      "text/plain": [
       "True"
      ]
     },
     "execution_count": 5,
     "metadata": {},
     "output_type": "execute_result"
    }
   ],
   "source": [
    "load_dotenv(find_dotenv(), override=True)"
   ]
  },
  {
   "cell_type": "code",
   "execution_count": 6,
   "metadata": {},
   "outputs": [],
   "source": [
    "pc = Pinecone(api_key=os.environ.get(\"PINECONE_API_KEY\"), environment = os.environ.get(\"PINECONE_ENV\"))"
   ]
  },
  {
   "cell_type": "code",
   "execution_count": 7,
   "metadata": {},
   "outputs": [
    {
     "data": {
      "text/plain": [
       "[\n",
       "    {\n",
       "        \"name\": \"my-index\",\n",
       "        \"dimension\": 3,\n",
       "        \"metric\": \"cosine\",\n",
       "        \"host\": \"my-index-tjgaq6p.svc.aped-4627-b74a.pinecone.io\",\n",
       "        \"spec\": {\n",
       "            \"serverless\": {\n",
       "                \"cloud\": \"aws\",\n",
       "                \"region\": \"us-east-1\"\n",
       "            }\n",
       "        },\n",
       "        \"status\": {\n",
       "            \"ready\": true,\n",
       "            \"state\": \"Ready\"\n",
       "        },\n",
       "        \"deletion_protection\": \"disabled\"\n",
       "    }\n",
       "]"
      ]
     },
     "execution_count": 7,
     "metadata": {},
     "output_type": "execute_result"
    }
   ],
   "source": [
    "pc.list_indexes()"
   ]
  },
  {
   "cell_type": "code",
   "execution_count": 8,
   "metadata": {},
   "outputs": [],
   "source": [
    "index_name = 'my-index'"
   ]
  },
  {
   "cell_type": "code",
   "execution_count": 9,
   "metadata": {},
   "outputs": [],
   "source": [
    "dimension = 3, \n",
    "metric = \"cosine\""
   ]
  },
  {
   "cell_type": "code",
   "execution_count": 11,
   "metadata": {},
   "outputs": [
    {
     "name": "stdout",
     "output_type": "stream",
     "text": [
      "my-index succ not in index list\n"
     ]
    }
   ],
   "source": [
    "if index_name in [index.name for index in pc.list_indexes()]:\n",
    "    pc.delete_index(index_name)\n",
    "    print(f\"{index_name}suc del\")\n",
    "else:\n",
    "    print(f\"{index_name} succ not in index list\")"
   ]
  },
  {
   "cell_type": "code",
   "execution_count": 12,
   "metadata": {},
   "outputs": [
    {
     "data": {
      "text/plain": [
       "[]"
      ]
     },
     "execution_count": 12,
     "metadata": {},
     "output_type": "execute_result"
    }
   ],
   "source": [
    "pc.list_indexes()"
   ]
  },
  {
   "cell_type": "code",
   "execution_count": 14,
   "metadata": {},
   "outputs": [],
   "source": [
    "pc.create_index(\n",
    "    name=index_name,\n",
    "    dimension=3,\n",
    "\n",
    "    metric=metric,\n",
    "    spec=ServerlessSpec(\n",
    "        cloud='aws',\n",
    "        region=\"us-east-1\"\n",
    "\n",
    "    )\n",
    "\n",
    ")"
   ]
  },
  {
   "cell_type": "code",
   "execution_count": 15,
   "metadata": {},
   "outputs": [
    {
     "data": {
      "text/plain": [
       "[\n",
       "    {\n",
       "        \"name\": \"my-index\",\n",
       "        \"dimension\": 3,\n",
       "        \"metric\": \"cosine\",\n",
       "        \"host\": \"my-index-tjgaq6p.svc.aped-4627-b74a.pinecone.io\",\n",
       "        \"spec\": {\n",
       "            \"serverless\": {\n",
       "                \"cloud\": \"aws\",\n",
       "                \"region\": \"us-east-1\"\n",
       "            }\n",
       "        },\n",
       "        \"status\": {\n",
       "            \"ready\": true,\n",
       "            \"state\": \"Ready\"\n",
       "        },\n",
       "        \"deletion_protection\": \"disabled\"\n",
       "    }\n",
       "]"
      ]
     },
     "execution_count": 15,
     "metadata": {},
     "output_type": "execute_result"
    }
   ],
   "source": [
    "pc.list_indexes()"
   ]
  },
  {
   "cell_type": "code",
   "execution_count": 22,
   "metadata": {},
   "outputs": [],
   "source": [
    "index_name_2 = 'my-index-2'\n",
    "metric_2= \"euclidean\""
   ]
  },
  {
   "cell_type": "code",
   "execution_count": 23,
   "metadata": {},
   "outputs": [
    {
     "name": "stdout",
     "output_type": "stream",
     "text": [
      "my-index-2 succ not in index list\n"
     ]
    }
   ],
   "source": [
    "if index_name_2 in [index.name for index in pc.list_indexes()]:\n",
    "    pc.delete_index(index_name_2)\n",
    "    print(f\"{index_name_2}suc del\")\n",
    "else:\n",
    "    print(f\"{index_name_2} succ not in index list\")"
   ]
  },
  {
   "cell_type": "code",
   "execution_count": 25,
   "metadata": {},
   "outputs": [],
   "source": [
    "pc\n",
    "pc.create_index(\n",
    "    name=index_name_2,\n",
    "    dimension=1536,\n",
    "\n",
    "    metric=metric_2,\n",
    "    spec=ServerlessSpec(\n",
    "        cloud='aws',\n",
    "        region=\"us-east-1\"\n",
    "\n",
    "    )\n",
    "\n",
    ")"
   ]
  },
  {
   "cell_type": "code",
   "execution_count": 27,
   "metadata": {},
   "outputs": [
    {
     "data": {
      "text/plain": [
       "[\n",
       "    {\n",
       "        \"name\": \"my-index-2\",\n",
       "        \"dimension\": 1536,\n",
       "        \"metric\": \"euclidean\",\n",
       "        \"host\": \"my-index-2-tjgaq6p.svc.aped-4627-b74a.pinecone.io\",\n",
       "        \"spec\": {\n",
       "            \"serverless\": {\n",
       "                \"cloud\": \"aws\",\n",
       "                \"region\": \"us-east-1\"\n",
       "            }\n",
       "        },\n",
       "        \"status\": {\n",
       "            \"ready\": true,\n",
       "            \"state\": \"Ready\"\n",
       "        },\n",
       "        \"deletion_protection\": \"disabled\"\n",
       "    },\n",
       "    {\n",
       "        \"name\": \"my-index\",\n",
       "        \"dimension\": 3,\n",
       "        \"metric\": \"cosine\",\n",
       "        \"host\": \"my-index-tjgaq6p.svc.aped-4627-b74a.pinecone.io\",\n",
       "        \"spec\": {\n",
       "            \"serverless\": {\n",
       "                \"cloud\": \"aws\",\n",
       "                \"region\": \"us-east-1\"\n",
       "            }\n",
       "        },\n",
       "        \"status\": {\n",
       "            \"ready\": true,\n",
       "            \"state\": \"Ready\"\n",
       "        },\n",
       "        \"deletion_protection\": \"disabled\"\n",
       "    }\n",
       "]"
      ]
     },
     "execution_count": 27,
     "metadata": {},
     "output_type": "execute_result"
    }
   ],
   "source": [
    "pc.list_indexes()"
   ]
  },
  {
   "cell_type": "code",
   "execution_count": 28,
   "metadata": {},
   "outputs": [],
   "source": [
    "index = pc.Index(name= index_name)"
   ]
  },
  {
   "cell_type": "code",
   "execution_count": 32,
   "metadata": {},
   "outputs": [
    {
     "data": {
      "text/plain": [
       "{'upserted_count': 5}"
      ]
     },
     "execution_count": 32,
     "metadata": {},
     "output_type": "execute_result"
    }
   ],
   "source": [
    "index.upsert([\n",
    "    ('Dog',[4.,0.,1.]),\n",
    "    ('Cat',[4.,0.,1.]),\n",
    "    ('Chicken',[2.,2.,1.]),\n",
    "    ('Mentis',[6.,2.,3.]),\n",
    "    ('Elephant',[4.,0.,1.]),\n",
    "])"
   ]
  },
  {
   "cell_type": "code",
   "execution_count": 33,
   "metadata": {},
   "outputs": [],
   "source": [
    "#using dataset"
   ]
  },
  {
   "cell_type": "code",
   "execution_count": 35,
   "metadata": {},
   "outputs": [
    {
     "name": "stdout",
     "output_type": "stream",
     "text": [
      "Collecting datasets\n",
      "  Using cached datasets-3.1.0-py3-none-any.whl.metadata (20 kB)\n",
      "Requirement already satisfied: filelock in c:\\users\\shett\\anaconda3\\envs\\langchain_env\\lib\\site-packages (from datasets) (3.16.1)\n",
      "Requirement already satisfied: numpy>=1.17 in c:\\users\\shett\\anaconda3\\envs\\langchain_env\\lib\\site-packages (from datasets) (1.26.4)\n",
      "Collecting pyarrow>=15.0.0 (from datasets)\n",
      "  Downloading pyarrow-18.0.0-cp39-cp39-win_amd64.whl.metadata (3.4 kB)\n",
      "Collecting dill<0.3.9,>=0.3.0 (from datasets)\n",
      "  Downloading dill-0.3.8-py3-none-any.whl.metadata (10 kB)\n",
      "Collecting pandas (from datasets)\n",
      "  Using cached pandas-2.2.3-cp39-cp39-win_amd64.whl.metadata (19 kB)\n",
      "Requirement already satisfied: requests>=2.32.2 in c:\\users\\shett\\anaconda3\\envs\\langchain_env\\lib\\site-packages (from datasets) (2.32.3)\n",
      "Requirement already satisfied: tqdm>=4.66.3 in c:\\users\\shett\\anaconda3\\envs\\langchain_env\\lib\\site-packages (from datasets) (4.67.0)\n",
      "Collecting xxhash (from datasets)\n",
      "  Downloading xxhash-3.5.0-cp39-cp39-win_amd64.whl.metadata (13 kB)\n",
      "Collecting multiprocess<0.70.17 (from datasets)\n",
      "  Downloading multiprocess-0.70.16-py39-none-any.whl.metadata (7.2 kB)\n",
      "Collecting fsspec<=2024.9.0,>=2023.1.0 (from fsspec[http]<=2024.9.0,>=2023.1.0->datasets)\n",
      "  Using cached fsspec-2024.9.0-py3-none-any.whl.metadata (11 kB)\n",
      "Requirement already satisfied: aiohttp in c:\\users\\shett\\anaconda3\\envs\\langchain_env\\lib\\site-packages (from datasets) (3.11.4)\n",
      "Requirement already satisfied: huggingface-hub>=0.23.0 in c:\\users\\shett\\anaconda3\\envs\\langchain_env\\lib\\site-packages (from datasets) (0.26.2)\n",
      "Requirement already satisfied: packaging in c:\\users\\shett\\anaconda3\\envs\\langchain_env\\lib\\site-packages (from datasets) (24.2)\n",
      "Requirement already satisfied: pyyaml>=5.1 in c:\\users\\shett\\anaconda3\\envs\\langchain_env\\lib\\site-packages (from datasets) (6.0.2)\n",
      "Requirement already satisfied: aiohappyeyeballs>=2.3.0 in c:\\users\\shett\\anaconda3\\envs\\langchain_env\\lib\\site-packages (from aiohttp->datasets) (2.4.3)\n",
      "Requirement already satisfied: aiosignal>=1.1.2 in c:\\users\\shett\\anaconda3\\envs\\langchain_env\\lib\\site-packages (from aiohttp->datasets) (1.3.1)\n",
      "Requirement already satisfied: attrs>=17.3.0 in c:\\users\\shett\\anaconda3\\envs\\langchain_env\\lib\\site-packages (from aiohttp->datasets) (24.2.0)\n",
      "Requirement already satisfied: frozenlist>=1.1.1 in c:\\users\\shett\\anaconda3\\envs\\langchain_env\\lib\\site-packages (from aiohttp->datasets) (1.5.0)\n",
      "Requirement already satisfied: multidict<7.0,>=4.5 in c:\\users\\shett\\anaconda3\\envs\\langchain_env\\lib\\site-packages (from aiohttp->datasets) (6.1.0)\n",
      "Requirement already satisfied: propcache>=0.2.0 in c:\\users\\shett\\anaconda3\\envs\\langchain_env\\lib\\site-packages (from aiohttp->datasets) (0.2.0)\n",
      "Requirement already satisfied: yarl<2.0,>=1.17.0 in c:\\users\\shett\\anaconda3\\envs\\langchain_env\\lib\\site-packages (from aiohttp->datasets) (1.17.2)\n",
      "Requirement already satisfied: async-timeout<6.0,>=4.0 in c:\\users\\shett\\anaconda3\\envs\\langchain_env\\lib\\site-packages (from aiohttp->datasets) (4.0.3)\n",
      "Requirement already satisfied: typing-extensions>=3.7.4.3 in c:\\users\\shett\\anaconda3\\envs\\langchain_env\\lib\\site-packages (from huggingface-hub>=0.23.0->datasets) (4.12.2)\n",
      "Requirement already satisfied: charset-normalizer<4,>=2 in c:\\users\\shett\\anaconda3\\envs\\langchain_env\\lib\\site-packages (from requests>=2.32.2->datasets) (3.4.0)\n",
      "Requirement already satisfied: idna<4,>=2.5 in c:\\users\\shett\\anaconda3\\envs\\langchain_env\\lib\\site-packages (from requests>=2.32.2->datasets) (3.10)\n",
      "Requirement already satisfied: urllib3<3,>=1.21.1 in c:\\users\\shett\\anaconda3\\envs\\langchain_env\\lib\\site-packages (from requests>=2.32.2->datasets) (2.2.3)\n",
      "Requirement already satisfied: certifi>=2017.4.17 in c:\\users\\shett\\anaconda3\\envs\\langchain_env\\lib\\site-packages (from requests>=2.32.2->datasets) (2024.8.30)\n",
      "Requirement already satisfied: colorama in c:\\users\\shett\\anaconda3\\envs\\langchain_env\\lib\\site-packages (from tqdm>=4.66.3->datasets) (0.4.6)\n",
      "Requirement already satisfied: python-dateutil>=2.8.2 in c:\\users\\shett\\anaconda3\\envs\\langchain_env\\lib\\site-packages (from pandas->datasets) (2.9.0.post0)\n",
      "Collecting pytz>=2020.1 (from pandas->datasets)\n",
      "  Using cached pytz-2024.2-py2.py3-none-any.whl.metadata (22 kB)\n",
      "Collecting tzdata>=2022.7 (from pandas->datasets)\n",
      "  Using cached tzdata-2024.2-py2.py3-none-any.whl.metadata (1.4 kB)\n",
      "Requirement already satisfied: six>=1.5 in c:\\users\\shett\\anaconda3\\envs\\langchain_env\\lib\\site-packages (from python-dateutil>=2.8.2->pandas->datasets) (1.16.0)\n",
      "Using cached datasets-3.1.0-py3-none-any.whl (480 kB)\n",
      "Downloading dill-0.3.8-py3-none-any.whl (116 kB)\n",
      "Using cached fsspec-2024.9.0-py3-none-any.whl (179 kB)\n",
      "Downloading multiprocess-0.70.16-py39-none-any.whl (133 kB)\n",
      "Downloading pyarrow-18.0.0-cp39-cp39-win_amd64.whl (25.1 MB)\n",
      "   ---------------------------------------- 0.0/25.1 MB ? eta -:--:--\n",
      "   -- ------------------------------------- 1.6/25.1 MB 7.6 MB/s eta 0:00:04\n",
      "   --- ------------------------------------ 2.4/25.1 MB 5.2 MB/s eta 0:00:05\n",
      "   ------- -------------------------------- 4.5/25.1 MB 6.9 MB/s eta 0:00:03\n",
      "   --------- ------------------------------ 5.8/25.1 MB 6.9 MB/s eta 0:00:03\n",
      "   ---------- ----------------------------- 6.3/25.1 MB 6.2 MB/s eta 0:00:04\n",
      "   ----------- ---------------------------- 7.1/25.1 MB 5.6 MB/s eta 0:00:04\n",
      "   ------------ --------------------------- 8.1/25.1 MB 5.4 MB/s eta 0:00:04\n",
      "   --------------- ------------------------ 9.4/25.1 MB 5.4 MB/s eta 0:00:03\n",
      "   ----------------- ---------------------- 11.0/25.1 MB 5.6 MB/s eta 0:00:03\n",
      "   -------------------- ------------------- 12.6/25.1 MB 5.8 MB/s eta 0:00:03\n",
      "   ---------------------- ----------------- 13.9/25.1 MB 5.9 MB/s eta 0:00:02\n",
      "   ----------------------- ---------------- 14.7/25.1 MB 5.7 MB/s eta 0:00:02\n",
      "   ------------------------ --------------- 15.5/25.1 MB 5.6 MB/s eta 0:00:02\n",
      "   -------------------------- ------------- 16.5/25.1 MB 5.5 MB/s eta 0:00:02\n",
      "   ---------------------------- ----------- 18.1/25.1 MB 5.6 MB/s eta 0:00:02\n",
      "   ------------------------------- -------- 19.7/25.1 MB 5.7 MB/s eta 0:00:01\n",
      "   --------------------------------- ------ 21.2/25.1 MB 5.8 MB/s eta 0:00:01\n",
      "   ----------------------------------- ---- 22.5/25.1 MB 5.9 MB/s eta 0:00:01\n",
      "   ------------------------------------- -- 23.6/25.1 MB 5.8 MB/s eta 0:00:01\n",
      "   -------------------------------------- - 24.4/25.1 MB 5.7 MB/s eta 0:00:01\n",
      "   ---------------------------------------  24.9/25.1 MB 5.7 MB/s eta 0:00:01\n",
      "   ---------------------------------------- 25.1/25.1 MB 5.6 MB/s eta 0:00:00\n",
      "Using cached pandas-2.2.3-cp39-cp39-win_amd64.whl (11.6 MB)\n",
      "Downloading xxhash-3.5.0-cp39-cp39-win_amd64.whl (30 kB)\n",
      "Using cached pytz-2024.2-py2.py3-none-any.whl (508 kB)\n",
      "Using cached tzdata-2024.2-py2.py3-none-any.whl (346 kB)\n",
      "Installing collected packages: pytz, xxhash, tzdata, pyarrow, fsspec, dill, pandas, multiprocess, datasets\n",
      "  Attempting uninstall: fsspec\n",
      "    Found existing installation: fsspec 2024.10.0\n",
      "    Uninstalling fsspec-2024.10.0:\n",
      "      Successfully uninstalled fsspec-2024.10.0\n",
      "Successfully installed datasets-3.1.0 dill-0.3.8 fsspec-2024.9.0 multiprocess-0.70.16 pandas-2.2.3 pyarrow-18.0.0 pytz-2024.2 tzdata-2024.2 xxhash-3.5.0\n",
      "Note: you may need to restart the kernel to use updated packages.\n"
     ]
    }
   ],
   "source": [
    "pip install datasets"
   ]
  },
  {
   "cell_type": "code",
   "execution_count": 37,
   "metadata": {},
   "outputs": [
    {
     "name": "stdout",
     "output_type": "stream",
     "text": [
      "Collecting sentence_transformers\n",
      "  Downloading sentence_transformers-3.3.1-py3-none-any.whl.metadata (10 kB)\n",
      "Collecting transformers<5.0.0,>=4.41.0 (from sentence_transformers)\n",
      "  Downloading transformers-4.46.3-py3-none-any.whl.metadata (44 kB)\n",
      "Requirement already satisfied: tqdm in c:\\users\\shett\\anaconda3\\envs\\langchain_env\\lib\\site-packages (from sentence_transformers) (4.67.0)\n",
      "Collecting torch>=1.11.0 (from sentence_transformers)\n",
      "  Downloading torch-2.5.1-cp39-cp39-win_amd64.whl.metadata (28 kB)\n",
      "Collecting scikit-learn (from sentence_transformers)\n",
      "  Using cached scikit_learn-1.5.2-cp39-cp39-win_amd64.whl.metadata (13 kB)\n",
      "Collecting scipy (from sentence_transformers)\n",
      "  Using cached scipy-1.13.1-cp39-cp39-win_amd64.whl.metadata (60 kB)\n",
      "Requirement already satisfied: huggingface-hub>=0.20.0 in c:\\users\\shett\\anaconda3\\envs\\langchain_env\\lib\\site-packages (from sentence_transformers) (0.26.2)\n",
      "Collecting Pillow (from sentence_transformers)\n",
      "  Using cached pillow-11.0.0-cp39-cp39-win_amd64.whl.metadata (9.3 kB)\n",
      "Requirement already satisfied: filelock in c:\\users\\shett\\anaconda3\\envs\\langchain_env\\lib\\site-packages (from huggingface-hub>=0.20.0->sentence_transformers) (3.16.1)\n",
      "Requirement already satisfied: fsspec>=2023.5.0 in c:\\users\\shett\\anaconda3\\envs\\langchain_env\\lib\\site-packages (from huggingface-hub>=0.20.0->sentence_transformers) (2024.9.0)\n",
      "Requirement already satisfied: packaging>=20.9 in c:\\users\\shett\\anaconda3\\envs\\langchain_env\\lib\\site-packages (from huggingface-hub>=0.20.0->sentence_transformers) (24.2)\n",
      "Requirement already satisfied: pyyaml>=5.1 in c:\\users\\shett\\anaconda3\\envs\\langchain_env\\lib\\site-packages (from huggingface-hub>=0.20.0->sentence_transformers) (6.0.2)\n",
      "Requirement already satisfied: requests in c:\\users\\shett\\anaconda3\\envs\\langchain_env\\lib\\site-packages (from huggingface-hub>=0.20.0->sentence_transformers) (2.32.3)\n",
      "Requirement already satisfied: typing-extensions>=3.7.4.3 in c:\\users\\shett\\anaconda3\\envs\\langchain_env\\lib\\site-packages (from huggingface-hub>=0.20.0->sentence_transformers) (4.12.2)\n",
      "Collecting networkx (from torch>=1.11.0->sentence_transformers)\n",
      "  Using cached networkx-3.2.1-py3-none-any.whl.metadata (5.2 kB)\n",
      "Collecting jinja2 (from torch>=1.11.0->sentence_transformers)\n",
      "  Using cached jinja2-3.1.4-py3-none-any.whl.metadata (2.6 kB)\n",
      "Collecting sympy==1.13.1 (from torch>=1.11.0->sentence_transformers)\n",
      "  Using cached sympy-1.13.1-py3-none-any.whl.metadata (12 kB)\n",
      "Requirement already satisfied: mpmath<1.4,>=1.1.0 in c:\\users\\shett\\anaconda3\\envs\\langchain_env\\lib\\site-packages (from sympy==1.13.1->torch>=1.11.0->sentence_transformers) (1.3.0)\n",
      "Requirement already satisfied: colorama in c:\\users\\shett\\anaconda3\\envs\\langchain_env\\lib\\site-packages (from tqdm->sentence_transformers) (0.4.6)\n",
      "Requirement already satisfied: numpy>=1.17 in c:\\users\\shett\\anaconda3\\envs\\langchain_env\\lib\\site-packages (from transformers<5.0.0,>=4.41.0->sentence_transformers) (1.26.4)\n",
      "Requirement already satisfied: regex!=2019.12.17 in c:\\users\\shett\\anaconda3\\envs\\langchain_env\\lib\\site-packages (from transformers<5.0.0,>=4.41.0->sentence_transformers) (2024.11.6)\n",
      "Requirement already satisfied: tokenizers<0.21,>=0.20 in c:\\users\\shett\\anaconda3\\envs\\langchain_env\\lib\\site-packages (from transformers<5.0.0,>=4.41.0->sentence_transformers) (0.20.3)\n",
      "Collecting safetensors>=0.4.1 (from transformers<5.0.0,>=4.41.0->sentence_transformers)\n",
      "  Using cached safetensors-0.4.5-cp39-none-win_amd64.whl.metadata (3.9 kB)\n",
      "Collecting joblib>=1.2.0 (from scikit-learn->sentence_transformers)\n",
      "  Using cached joblib-1.4.2-py3-none-any.whl.metadata (5.4 kB)\n",
      "Collecting threadpoolctl>=3.1.0 (from scikit-learn->sentence_transformers)\n",
      "  Using cached threadpoolctl-3.5.0-py3-none-any.whl.metadata (13 kB)\n",
      "Collecting MarkupSafe>=2.0 (from jinja2->torch>=1.11.0->sentence_transformers)\n",
      "  Downloading MarkupSafe-3.0.2-cp39-cp39-win_amd64.whl.metadata (4.1 kB)\n",
      "Requirement already satisfied: charset-normalizer<4,>=2 in c:\\users\\shett\\anaconda3\\envs\\langchain_env\\lib\\site-packages (from requests->huggingface-hub>=0.20.0->sentence_transformers) (3.4.0)\n",
      "Requirement already satisfied: idna<4,>=2.5 in c:\\users\\shett\\anaconda3\\envs\\langchain_env\\lib\\site-packages (from requests->huggingface-hub>=0.20.0->sentence_transformers) (3.10)\n",
      "Requirement already satisfied: urllib3<3,>=1.21.1 in c:\\users\\shett\\anaconda3\\envs\\langchain_env\\lib\\site-packages (from requests->huggingface-hub>=0.20.0->sentence_transformers) (2.2.3)\n",
      "Requirement already satisfied: certifi>=2017.4.17 in c:\\users\\shett\\anaconda3\\envs\\langchain_env\\lib\\site-packages (from requests->huggingface-hub>=0.20.0->sentence_transformers) (2024.8.30)\n",
      "Downloading sentence_transformers-3.3.1-py3-none-any.whl (268 kB)\n",
      "Downloading torch-2.5.1-cp39-cp39-win_amd64.whl (203.0 MB)\n",
      "   ---------------------------------------- 0.0/203.0 MB ? eta -:--:--\n",
      "   ---------------------------------------- 2.1/203.0 MB 11.8 MB/s eta 0:00:18\n",
      "    --------------------------------------- 3.7/203.0 MB 8.4 MB/s eta 0:00:24\n",
      "    --------------------------------------- 4.7/203.0 MB 7.5 MB/s eta 0:00:27\n",
      "   - -------------------------------------- 5.5/203.0 MB 6.5 MB/s eta 0:00:31\n",
      "   - -------------------------------------- 6.3/203.0 MB 6.0 MB/s eta 0:00:33\n",
      "   - -------------------------------------- 7.3/203.0 MB 5.9 MB/s eta 0:00:34\n",
      "   - -------------------------------------- 8.7/203.0 MB 5.8 MB/s eta 0:00:34\n",
      "   - -------------------------------------- 10.0/203.0 MB 5.9 MB/s eta 0:00:33\n",
      "   -- ------------------------------------- 11.8/203.0 MB 6.2 MB/s eta 0:00:32\n",
      "   -- ------------------------------------- 12.8/203.0 MB 6.1 MB/s eta 0:00:32\n",
      "   -- ------------------------------------- 14.2/203.0 MB 6.1 MB/s eta 0:00:32\n",
      "   --- ------------------------------------ 15.5/203.0 MB 6.1 MB/s eta 0:00:31\n",
      "   --- ------------------------------------ 16.8/203.0 MB 6.0 MB/s eta 0:00:32\n",
      "   --- ------------------------------------ 18.1/203.0 MB 6.0 MB/s eta 0:00:31\n",
      "   --- ------------------------------------ 19.4/203.0 MB 6.0 MB/s eta 0:00:31\n",
      "   ---- ----------------------------------- 21.0/203.0 MB 6.1 MB/s eta 0:00:30\n",
      "   ---- ----------------------------------- 22.0/203.0 MB 6.1 MB/s eta 0:00:30\n",
      "   ---- ----------------------------------- 23.1/203.0 MB 6.0 MB/s eta 0:00:31\n",
      "   ---- ----------------------------------- 24.1/203.0 MB 5.9 MB/s eta 0:00:31\n",
      "   ----- ---------------------------------- 25.4/203.0 MB 5.9 MB/s eta 0:00:30\n",
      "   ----- ---------------------------------- 26.7/203.0 MB 5.9 MB/s eta 0:00:30\n",
      "   ----- ---------------------------------- 28.3/203.0 MB 6.0 MB/s eta 0:00:30\n",
      "   ----- ---------------------------------- 29.9/203.0 MB 6.1 MB/s eta 0:00:29\n",
      "   ------ --------------------------------- 30.7/203.0 MB 6.0 MB/s eta 0:00:29\n",
      "   ------ --------------------------------- 32.0/203.0 MB 6.0 MB/s eta 0:00:29\n",
      "   ------ --------------------------------- 33.3/203.0 MB 6.0 MB/s eta 0:00:29\n",
      "   ------ --------------------------------- 34.9/203.0 MB 6.0 MB/s eta 0:00:29\n",
      "   ------- -------------------------------- 36.2/203.0 MB 6.0 MB/s eta 0:00:28\n",
      "   ------- -------------------------------- 37.5/203.0 MB 6.0 MB/s eta 0:00:28\n",
      "   ------- -------------------------------- 38.5/203.0 MB 6.0 MB/s eta 0:00:28\n",
      "   ------- -------------------------------- 39.6/203.0 MB 6.0 MB/s eta 0:00:28\n",
      "   -------- ------------------------------- 40.9/203.0 MB 6.0 MB/s eta 0:00:28\n",
      "   -------- ------------------------------- 42.5/203.0 MB 6.0 MB/s eta 0:00:27\n",
      "   -------- ------------------------------- 44.0/203.0 MB 6.1 MB/s eta 0:00:27\n",
      "   -------- ------------------------------- 44.8/203.0 MB 6.0 MB/s eta 0:00:27\n",
      "   -------- ------------------------------- 45.6/203.0 MB 5.9 MB/s eta 0:00:27\n",
      "   --------- ------------------------------ 46.7/203.0 MB 5.9 MB/s eta 0:00:27\n",
      "   --------- ------------------------------ 47.7/203.0 MB 5.9 MB/s eta 0:00:27\n",
      "   --------- ------------------------------ 49.3/203.0 MB 5.9 MB/s eta 0:00:27\n",
      "   --------- ------------------------------ 50.6/203.0 MB 5.9 MB/s eta 0:00:26\n",
      "   ---------- ----------------------------- 52.4/203.0 MB 6.0 MB/s eta 0:00:26\n",
      "   ---------- ----------------------------- 53.7/203.0 MB 6.0 MB/s eta 0:00:25\n",
      "   ---------- ----------------------------- 54.5/203.0 MB 5.9 MB/s eta 0:00:26\n",
      "   ---------- ----------------------------- 55.3/203.0 MB 5.9 MB/s eta 0:00:26\n",
      "   ----------- ---------------------------- 56.4/203.0 MB 5.9 MB/s eta 0:00:25\n",
      "   ----------- ---------------------------- 57.7/203.0 MB 5.9 MB/s eta 0:00:25\n",
      "   ----------- ---------------------------- 59.2/203.0 MB 5.9 MB/s eta 0:00:25\n",
      "   ----------- ---------------------------- 60.8/203.0 MB 5.9 MB/s eta 0:00:25\n",
      "   ------------ --------------------------- 62.4/203.0 MB 6.0 MB/s eta 0:00:24\n",
      "   ------------ --------------------------- 63.4/203.0 MB 5.9 MB/s eta 0:00:24\n",
      "   ------------ --------------------------- 64.2/203.0 MB 5.9 MB/s eta 0:00:24\n",
      "   ------------ --------------------------- 65.3/203.0 MB 5.9 MB/s eta 0:00:24\n",
      "   ------------- -------------------------- 66.3/203.0 MB 5.9 MB/s eta 0:00:24\n",
      "   ------------- -------------------------- 67.9/203.0 MB 5.9 MB/s eta 0:00:24\n",
      "   ------------- -------------------------- 69.5/203.0 MB 5.9 MB/s eta 0:00:23\n",
      "   ------------- -------------------------- 71.0/203.0 MB 5.9 MB/s eta 0:00:23\n",
      "   -------------- ------------------------- 72.4/203.0 MB 5.9 MB/s eta 0:00:23\n",
      "   -------------- ------------------------- 73.7/203.0 MB 5.9 MB/s eta 0:00:22\n",
      "   -------------- ------------------------- 74.7/203.0 MB 5.9 MB/s eta 0:00:22\n",
      "   -------------- ------------------------- 75.8/203.0 MB 5.9 MB/s eta 0:00:22\n",
      "   --------------- ------------------------ 76.8/203.0 MB 5.9 MB/s eta 0:00:22\n",
      "   --------------- ------------------------ 77.9/203.0 MB 5.9 MB/s eta 0:00:22\n",
      "   --------------- ------------------------ 79.4/203.0 MB 5.9 MB/s eta 0:00:21\n",
      "   --------------- ------------------------ 81.0/203.0 MB 5.9 MB/s eta 0:00:21\n",
      "   ---------------- ----------------------- 82.3/203.0 MB 5.9 MB/s eta 0:00:21\n",
      "   ---------------- ----------------------- 83.1/203.0 MB 5.9 MB/s eta 0:00:21\n",
      "   ---------------- ----------------------- 84.1/203.0 MB 5.9 MB/s eta 0:00:21\n",
      "   ---------------- ----------------------- 85.2/203.0 MB 5.9 MB/s eta 0:00:21\n",
      "   ---------------- ----------------------- 86.2/203.0 MB 5.9 MB/s eta 0:00:20\n",
      "   ----------------- ---------------------- 87.8/203.0 MB 5.9 MB/s eta 0:00:20\n",
      "   ----------------- ---------------------- 89.4/203.0 MB 5.9 MB/s eta 0:00:20\n",
      "   ----------------- ---------------------- 91.0/203.0 MB 5.9 MB/s eta 0:00:19\n",
      "   ------------------ --------------------- 92.0/203.0 MB 5.9 MB/s eta 0:00:19\n",
      "   ------------------ --------------------- 93.1/203.0 MB 5.9 MB/s eta 0:00:19\n",
      "   ------------------ --------------------- 94.4/203.0 MB 5.9 MB/s eta 0:00:19\n",
      "   ------------------ --------------------- 95.9/203.0 MB 5.9 MB/s eta 0:00:19\n",
      "   ------------------- -------------------- 97.0/203.0 MB 5.9 MB/s eta 0:00:18\n",
      "   ------------------- -------------------- 97.8/203.0 MB 5.9 MB/s eta 0:00:18\n",
      "   ------------------- -------------------- 98.8/203.0 MB 5.9 MB/s eta 0:00:18\n",
      "   ------------------- -------------------- 100.1/203.0 MB 5.9 MB/s eta 0:00:18\n",
      "   -------------------- ------------------- 101.7/203.0 MB 5.9 MB/s eta 0:00:18\n",
      "   -------------------- ------------------- 103.3/203.0 MB 5.9 MB/s eta 0:00:17\n",
      "   -------------------- ------------------- 104.9/203.0 MB 5.9 MB/s eta 0:00:17\n",
      "   -------------------- ------------------- 105.4/203.0 MB 5.9 MB/s eta 0:00:17\n",
      "   -------------------- ------------------- 105.9/203.0 MB 5.9 MB/s eta 0:00:17\n",
      "   --------------------- ------------------ 107.0/203.0 MB 5.8 MB/s eta 0:00:17\n",
      "   --------------------- ------------------ 108.0/203.0 MB 5.8 MB/s eta 0:00:17\n",
      "   --------------------- ------------------ 109.1/203.0 MB 5.8 MB/s eta 0:00:17\n",
      "   --------------------- ------------------ 109.8/203.0 MB 5.8 MB/s eta 0:00:17\n",
      "   --------------------- ------------------ 111.4/203.0 MB 5.8 MB/s eta 0:00:16\n",
      "   ---------------------- ----------------- 113.0/203.0 MB 5.8 MB/s eta 0:00:16\n",
      "   ---------------------- ----------------- 114.3/203.0 MB 5.8 MB/s eta 0:00:16\n",
      "   ---------------------- ----------------- 115.3/203.0 MB 5.8 MB/s eta 0:00:16\n",
      "   ---------------------- ----------------- 116.4/203.0 MB 5.8 MB/s eta 0:00:15\n",
      "   ----------------------- ---------------- 117.7/203.0 MB 5.8 MB/s eta 0:00:15\n",
      "   ----------------------- ---------------- 119.3/203.0 MB 5.8 MB/s eta 0:00:15\n",
      "   ----------------------- ---------------- 120.8/203.0 MB 5.8 MB/s eta 0:00:15\n",
      "   ----------------------- ---------------- 121.6/203.0 MB 5.8 MB/s eta 0:00:14\n",
      "   ------------------------ --------------- 122.7/203.0 MB 5.8 MB/s eta 0:00:14\n",
      "   ------------------------ --------------- 124.0/203.0 MB 5.8 MB/s eta 0:00:14\n",
      "   ------------------------ --------------- 125.0/203.0 MB 5.8 MB/s eta 0:00:14\n",
      "   ------------------------ --------------- 125.8/203.0 MB 5.8 MB/s eta 0:00:14\n",
      "   ------------------------- -------------- 126.9/203.0 MB 5.8 MB/s eta 0:00:14\n",
      "   ------------------------- -------------- 128.2/203.0 MB 5.8 MB/s eta 0:00:13\n",
      "   ------------------------- -------------- 129.8/203.0 MB 5.8 MB/s eta 0:00:13\n",
      "   ------------------------- -------------- 131.3/203.0 MB 5.8 MB/s eta 0:00:13\n",
      "   -------------------------- ------------- 132.4/203.0 MB 5.8 MB/s eta 0:00:13\n",
      "   -------------------------- ------------- 133.4/203.0 MB 5.8 MB/s eta 0:00:12\n",
      "   -------------------------- ------------- 134.5/203.0 MB 5.8 MB/s eta 0:00:12\n",
      "   -------------------------- ------------- 136.1/203.0 MB 5.8 MB/s eta 0:00:12\n",
      "   --------------------------- ------------ 137.6/203.0 MB 5.8 MB/s eta 0:00:12\n",
      "   --------------------------- ------------ 138.7/203.0 MB 5.8 MB/s eta 0:00:12\n",
      "   --------------------------- ------------ 139.5/203.0 MB 5.8 MB/s eta 0:00:11\n",
      "   --------------------------- ------------ 140.8/203.0 MB 5.8 MB/s eta 0:00:11\n",
      "   --------------------------- ------------ 142.1/203.0 MB 5.8 MB/s eta 0:00:11\n",
      "   ---------------------------- ----------- 143.7/203.0 MB 5.8 MB/s eta 0:00:11\n",
      "   ---------------------------- ----------- 145.2/203.0 MB 5.8 MB/s eta 0:00:10\n",
      "   ---------------------------- ----------- 146.3/203.0 MB 5.8 MB/s eta 0:00:10\n",
      "   ----------------------------- ---------- 147.3/203.0 MB 5.8 MB/s eta 0:00:10\n",
      "   ----------------------------- ---------- 148.6/203.0 MB 5.8 MB/s eta 0:00:10\n",
      "   ----------------------------- ---------- 149.9/203.0 MB 5.8 MB/s eta 0:00:10\n",
      "   ----------------------------- ---------- 151.5/203.0 MB 5.8 MB/s eta 0:00:09\n",
      "   ------------------------------ --------- 152.3/203.0 MB 5.8 MB/s eta 0:00:09\n",
      "   ------------------------------ --------- 153.4/203.0 MB 5.8 MB/s eta 0:00:09\n",
      "   ------------------------------ --------- 154.7/203.0 MB 5.8 MB/s eta 0:00:09\n",
      "   ------------------------------ --------- 156.0/203.0 MB 5.8 MB/s eta 0:00:09\n",
      "   ------------------------------- -------- 157.5/203.0 MB 5.8 MB/s eta 0:00:08\n",
      "   ------------------------------- -------- 159.1/203.0 MB 5.8 MB/s eta 0:00:08\n",
      "   ------------------------------- -------- 160.2/203.0 MB 5.8 MB/s eta 0:00:08\n",
      "   ------------------------------- -------- 161.2/203.0 MB 5.8 MB/s eta 0:00:08\n",
      "   -------------------------------- ------- 162.5/203.0 MB 5.8 MB/s eta 0:00:07\n",
      "   -------------------------------- ------- 164.1/203.0 MB 5.8 MB/s eta 0:00:07\n",
      "   -------------------------------- ------- 165.2/203.0 MB 5.8 MB/s eta 0:00:07\n",
      "   -------------------------------- ------- 166.5/203.0 MB 5.8 MB/s eta 0:00:07\n",
      "   --------------------------------- ------ 167.8/203.0 MB 5.8 MB/s eta 0:00:07\n",
      "   --------------------------------- ------ 169.1/203.0 MB 5.8 MB/s eta 0:00:06\n",
      "   --------------------------------- ------ 170.1/203.0 MB 5.8 MB/s eta 0:00:06\n",
      "   --------------------------------- ------ 171.7/203.0 MB 5.9 MB/s eta 0:00:06\n",
      "   ---------------------------------- ----- 172.8/203.0 MB 5.9 MB/s eta 0:00:06\n",
      "   ---------------------------------- ----- 173.8/203.0 MB 5.8 MB/s eta 0:00:05\n",
      "   ---------------------------------- ----- 175.1/203.0 MB 5.8 MB/s eta 0:00:05\n",
      "   ---------------------------------- ----- 176.4/203.0 MB 5.8 MB/s eta 0:00:05\n",
      "   ----------------------------------- ---- 177.7/203.0 MB 5.8 MB/s eta 0:00:05\n",
      "   ----------------------------------- ---- 179.6/203.0 MB 5.8 MB/s eta 0:00:05\n",
      "   ----------------------------------- ---- 180.9/203.0 MB 5.9 MB/s eta 0:00:04\n",
      "   ----------------------------------- ---- 181.7/203.0 MB 5.8 MB/s eta 0:00:04\n",
      "   ----------------------------------- ---- 182.5/203.0 MB 5.8 MB/s eta 0:00:04\n",
      "   ------------------------------------ --- 183.5/203.0 MB 5.8 MB/s eta 0:00:04\n",
      "   ------------------------------------ --- 184.8/203.0 MB 5.8 MB/s eta 0:00:04\n",
      "   ------------------------------------ --- 186.4/203.0 MB 5.8 MB/s eta 0:00:03\n",
      "   ------------------------------------- -- 188.0/203.0 MB 5.8 MB/s eta 0:00:03\n",
      "   ------------------------------------- -- 189.3/203.0 MB 5.8 MB/s eta 0:00:03\n",
      "   ------------------------------------- -- 190.6/203.0 MB 5.8 MB/s eta 0:00:03\n",
      "   ------------------------------------- -- 191.6/203.0 MB 5.8 MB/s eta 0:00:02\n",
      "   -------------------------------------- - 192.9/203.0 MB 5.8 MB/s eta 0:00:02\n",
      "   -------------------------------------- - 194.5/203.0 MB 5.8 MB/s eta 0:00:02\n",
      "   -------------------------------------- - 195.6/203.0 MB 5.8 MB/s eta 0:00:02\n",
      "   -------------------------------------- - 196.6/203.0 MB 5.8 MB/s eta 0:00:02\n",
      "   -------------------------------------- - 197.9/203.0 MB 5.8 MB/s eta 0:00:01\n",
      "   ---------------------------------------  199.2/203.0 MB 5.8 MB/s eta 0:00:01\n",
      "   ---------------------------------------  200.8/203.0 MB 5.9 MB/s eta 0:00:01\n",
      "   ---------------------------------------  202.4/203.0 MB 5.9 MB/s eta 0:00:01\n",
      "   ---------------------------------------  202.9/203.0 MB 5.9 MB/s eta 0:00:01\n",
      "   ---------------------------------------  202.9/203.0 MB 5.9 MB/s eta 0:00:01\n",
      "   ---------------------------------------- 203.0/203.0 MB 5.8 MB/s eta 0:00:00\n",
      "Using cached sympy-1.13.1-py3-none-any.whl (6.2 MB)\n",
      "Downloading transformers-4.46.3-py3-none-any.whl (10.0 MB)\n",
      "   ---------------------------------------- 0.0/10.0 MB ? eta -:--:--\n",
      "   ----- ---------------------------------- 1.3/10.0 MB 6.1 MB/s eta 0:00:02\n",
      "   ---------- ----------------------------- 2.6/10.0 MB 6.9 MB/s eta 0:00:02\n",
      "   ----------------- ---------------------- 4.5/10.0 MB 7.3 MB/s eta 0:00:01\n",
      "   ------------------------ --------------- 6.0/10.0 MB 7.4 MB/s eta 0:00:01\n",
      "   --------------------------- ------------ 6.8/10.0 MB 6.7 MB/s eta 0:00:01\n",
      "   ----------------------------- ---------- 7.3/10.0 MB 6.0 MB/s eta 0:00:01\n",
      "   -------------------------------- ------- 8.1/10.0 MB 5.6 MB/s eta 0:00:01\n",
      "   ------------------------------------ --- 9.2/10.0 MB 5.4 MB/s eta 0:00:01\n",
      "   ---------------------------------------- 10.0/10.0 MB 5.3 MB/s eta 0:00:00\n",
      "Downloading pillow-11.0.0-cp39-cp39-win_amd64.whl (2.6 MB)\n",
      "   ---------------------------------------- 0.0/2.6 MB ? eta -:--:--\n",
      "   ---------------- ----------------------- 1.0/2.6 MB 6.3 MB/s eta 0:00:01\n",
      "   ------------------------------------ --- 2.4/2.6 MB 6.1 MB/s eta 0:00:01\n",
      "   ---------------------------------------- 2.6/2.6 MB 5.9 MB/s eta 0:00:00\n",
      "Using cached scikit_learn-1.5.2-cp39-cp39-win_amd64.whl (11.0 MB)\n",
      "Using cached scipy-1.13.1-cp39-cp39-win_amd64.whl (46.2 MB)\n",
      "Using cached joblib-1.4.2-py3-none-any.whl (301 kB)\n",
      "Using cached safetensors-0.4.5-cp39-none-win_amd64.whl (286 kB)\n",
      "Using cached threadpoolctl-3.5.0-py3-none-any.whl (18 kB)\n",
      "Using cached jinja2-3.1.4-py3-none-any.whl (133 kB)\n",
      "Using cached networkx-3.2.1-py3-none-any.whl (1.6 MB)\n",
      "Downloading MarkupSafe-3.0.2-cp39-cp39-win_amd64.whl (15 kB)\n",
      "Installing collected packages: threadpoolctl, sympy, scipy, safetensors, Pillow, networkx, MarkupSafe, joblib, scikit-learn, jinja2, torch, transformers, sentence_transformers\n",
      "  Attempting uninstall: sympy\n",
      "    Found existing installation: sympy 1.13.3\n",
      "    Uninstalling sympy-1.13.3:\n",
      "      Successfully uninstalled sympy-1.13.3\n",
      "Successfully installed MarkupSafe-3.0.2 Pillow-11.0.0 jinja2-3.1.4 joblib-1.4.2 networkx-3.2.1 safetensors-0.4.5 scikit-learn-1.5.2 scipy-1.13.1 sentence_transformers-3.3.1 sympy-1.13.1 threadpoolctl-3.5.0 torch-2.5.1 transformers-4.46.3\n",
      "Note: you may need to restart the kernel to use updated packages.\n"
     ]
    }
   ],
   "source": [
    "pip install sentence_transformers\n"
   ]
  },
  {
   "cell_type": "code",
   "execution_count": 38,
   "metadata": {},
   "outputs": [],
   "source": [
    "from datasets import load_dataset\n",
    "from sentence_transformers import SentenceTransformer"
   ]
  },
  {
   "cell_type": "code",
   "execution_count": 39,
   "metadata": {},
   "outputs": [
    {
     "name": "stderr",
     "output_type": "stream",
     "text": [
      "c:\\Users\\shett\\anaconda3\\envs\\langchain_env\\lib\\site-packages\\huggingface_hub\\file_download.py:139: UserWarning: `huggingface_hub` cache-system uses symlinks by default to efficiently store duplicated files but your machine does not support them in C:\\Users\\shett\\.cache\\huggingface\\hub\\datasets--HuggingFaceFW--fineweb. Caching files will still work but in a degraded version that might require more space on your disk. This warning can be disabled by setting the `HF_HUB_DISABLE_SYMLINKS_WARNING` environment variable. For more details, see https://huggingface.co/docs/huggingface_hub/how-to-cache#limitations.\n",
      "To support symlinks on Windows, you either need to activate Developer Mode or to run Python as an administrator. In order to activate developer mode, see this article: https://docs.microsoft.com/en-us/windows/apps/get-started/enable-your-device-for-development\n",
      "  warnings.warn(message)\n"
     ]
    }
   ],
   "source": [
    "fw = load_dataset(\"HuggingFaceFW/fineweb\", name= \"sample-10BT\", split=\"train\", streaming=True)"
   ]
  },
  {
   "cell_type": "code",
   "execution_count": 40,
   "metadata": {},
   "outputs": [
    {
     "data": {
      "text/plain": [
       "IterableDataset({\n",
       "    features: ['text', 'id', 'dump', 'url', 'date', 'file_path', 'language', 'language_score', 'token_count'],\n",
       "    num_shards: 15\n",
       "})"
      ]
     },
     "execution_count": 40,
     "metadata": {},
     "output_type": "execute_result"
    }
   ],
   "source": [
    "fw"
   ]
  },
  {
   "cell_type": "code",
   "execution_count": 41,
   "metadata": {},
   "outputs": [
    {
     "data": {
      "text/plain": [
       "{'text': Value(dtype='string', id=None),\n",
       " 'id': Value(dtype='string', id=None),\n",
       " 'dump': Value(dtype='string', id=None),\n",
       " 'url': Value(dtype='string', id=None),\n",
       " 'date': Value(dtype='string', id=None),\n",
       " 'file_path': Value(dtype='string', id=None),\n",
       " 'language': Value(dtype='string', id=None),\n",
       " 'language_score': Value(dtype='float64', id=None),\n",
       " 'token_count': Value(dtype='int64', id=None)}"
      ]
     },
     "execution_count": 41,
     "metadata": {},
     "output_type": "execute_result"
    }
   ],
   "source": [
    "fw.features"
   ]
  },
  {
   "cell_type": "code",
   "execution_count": 42,
   "metadata": {},
   "outputs": [
    {
     "name": "stderr",
     "output_type": "stream",
     "text": [
      "c:\\Users\\shett\\anaconda3\\envs\\langchain_env\\lib\\site-packages\\huggingface_hub\\file_download.py:139: UserWarning: `huggingface_hub` cache-system uses symlinks by default to efficiently store duplicated files but your machine does not support them in C:\\Users\\shett\\.cache\\huggingface\\hub\\models--sentence-transformers--all-MiniLM-L6-v2. Caching files will still work but in a degraded version that might require more space on your disk. This warning can be disabled by setting the `HF_HUB_DISABLE_SYMLINKS_WARNING` environment variable. For more details, see https://huggingface.co/docs/huggingface_hub/how-to-cache#limitations.\n",
      "To support symlinks on Windows, you either need to activate Developer Mode or to run Python as an administrator. In order to activate developer mode, see this article: https://docs.microsoft.com/en-us/windows/apps/get-started/enable-your-device-for-development\n",
      "  warnings.warn(message)\n"
     ]
    }
   ],
   "source": [
    "model = SentenceTransformer(\"all-MiniLM-L6-v2\")"
   ]
  },
  {
   "cell_type": "code",
   "execution_count": 43,
   "metadata": {},
   "outputs": [
    {
     "data": {
      "text/plain": [
       "True"
      ]
     },
     "execution_count": 43,
     "metadata": {},
     "output_type": "execute_result"
    }
   ],
   "source": [
    "load_dotenv(find_dotenv(),override=True)"
   ]
  },
  {
   "cell_type": "code",
   "execution_count": 44,
   "metadata": {},
   "outputs": [],
   "source": [
    "pc = Pinecone(api_key=os.environ.get(\"PINECONE_API_KEY\"), enviroment = os.environ.get(\"PINECONE_ENV\"))"
   ]
  },
  {
   "cell_type": "code",
   "execution_count": 45,
   "metadata": {},
   "outputs": [
    {
     "data": {
      "text/plain": [
       "[\n",
       "    {\n",
       "        \"name\": \"my-index-2\",\n",
       "        \"dimension\": 1536,\n",
       "        \"metric\": \"euclidean\",\n",
       "        \"host\": \"my-index-2-tjgaq6p.svc.aped-4627-b74a.pinecone.io\",\n",
       "        \"spec\": {\n",
       "            \"serverless\": {\n",
       "                \"cloud\": \"aws\",\n",
       "                \"region\": \"us-east-1\"\n",
       "            }\n",
       "        },\n",
       "        \"status\": {\n",
       "            \"ready\": true,\n",
       "            \"state\": \"Ready\"\n",
       "        },\n",
       "        \"deletion_protection\": \"disabled\"\n",
       "    },\n",
       "    {\n",
       "        \"name\": \"my-index\",\n",
       "        \"dimension\": 3,\n",
       "        \"metric\": \"cosine\",\n",
       "        \"host\": \"my-index-tjgaq6p.svc.aped-4627-b74a.pinecone.io\",\n",
       "        \"spec\": {\n",
       "            \"serverless\": {\n",
       "                \"cloud\": \"aws\",\n",
       "                \"region\": \"us-east-1\"\n",
       "            }\n",
       "        },\n",
       "        \"status\": {\n",
       "            \"ready\": true,\n",
       "            \"state\": \"Ready\"\n",
       "        },\n",
       "        \"deletion_protection\": \"disabled\"\n",
       "    }\n",
       "]"
      ]
     },
     "execution_count": 45,
     "metadata": {},
     "output_type": "execute_result"
    }
   ],
   "source": [
    "pc.list_indexes()"
   ]
  },
  {
   "cell_type": "code",
   "execution_count": 48,
   "metadata": {},
   "outputs": [],
   "source": [
    "pc.create_index(\n",
    "    name = \"text\",\n",
    "    dimension=model.get_sentence_embedding_dimension(),\n",
    "    metric=\"cosine\",\n",
    "    spec = ServerlessSpec(\n",
    "        cloud = 'aws',\n",
    "        region = 'us-east-1'\n",
    "    )\n",
    ")"
   ]
  },
  {
   "cell_type": "code",
   "execution_count": 49,
   "metadata": {},
   "outputs": [],
   "source": [
    "index = pc.Index(name=\"text\")"
   ]
  },
  {
   "cell_type": "code",
   "execution_count": 50,
   "metadata": {},
   "outputs": [
    {
     "data": {
      "text/plain": [
       "<pinecone.data.index.Index at 0x1f9bc8cba00>"
      ]
     },
     "execution_count": 50,
     "metadata": {},
     "output_type": "execute_result"
    }
   ],
   "source": [
    "index"
   ]
  },
  {
   "cell_type": "code",
   "execution_count": null,
   "metadata": {},
   "outputs": [],
   "source": []
  }
 ],
 "metadata": {
  "kernelspec": {
   "display_name": "langchain_env",
   "language": "python",
   "name": "python3"
  },
  "language_info": {
   "codemirror_mode": {
    "name": "ipython",
    "version": 3
   },
   "file_extension": ".py",
   "mimetype": "text/x-python",
   "name": "python",
   "nbconvert_exporter": "python",
   "pygments_lexer": "ipython3",
   "version": "3.9.20"
  }
 },
 "nbformat": 4,
 "nbformat_minor": 2
}
