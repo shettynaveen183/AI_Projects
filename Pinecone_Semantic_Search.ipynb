{
 "cells": [
  {
   "cell_type": "code",
   "execution_count": 2,
   "metadata": {},
   "outputs": [],
   "source": [
    "import pandas as pd"
   ]
  },
  {
   "cell_type": "code",
   "execution_count": null,
   "metadata": {},
   "outputs": [],
   "source": [
    "files = pd.read_csv(r\"filepath\", encoding=\"ANSI\")"
   ]
  },
  {
   "cell_type": "code",
   "execution_count": 4,
   "metadata": {},
   "outputs": [],
   "source": [
    "def create_course_description(row):\n",
    "    return f'''The course name is {row['course_name']}, the slug is {row['course_slug']},\n",
    "          the technology is {row[\"course_technology\"]} and the course topic is {row[\"course_topic\"]}'''\n"
   ]
  },
  {
   "cell_type": "code",
   "execution_count": 5,
   "metadata": {},
   "outputs": [],
   "source": [
    "files['course_description_new'] = files.apply(create_course_description, axis =1 )"
   ]
  },
  {
   "cell_type": "code",
   "execution_count": 6,
   "metadata": {},
   "outputs": [
    {
     "name": "stdout",
     "output_type": "stream",
     "text": [
      "0      The course name is Introduction to Tableau, th...\n",
      "1      The course name is The Complete Data Visualiza...\n",
      "2      The course name is Introduction to R Programmi...\n",
      "3      The course name is Data Preprocessing with Num...\n",
      "4      The course name is Introduction to Data and Da...\n",
      "                             ...                        \n",
      "101    The course name is Intro to NLP for AI, the sl...\n",
      "102    The course name is Data Analysis with ChatGPT,...\n",
      "103    The course name is ChatGPT for Data Science, t...\n",
      "104    The course name is Intro to LLMs, the slug is ...\n",
      "105    The course name is Growth Analysis with SQL, P...\n",
      "Name: course_description_new, Length: 106, dtype: object\n"
     ]
    }
   ],
   "source": [
    "print(files['course_description_new'])"
   ]
  },
  {
   "cell_type": "code",
   "execution_count": 7,
   "metadata": {},
   "outputs": [
    {
     "name": "stderr",
     "output_type": "stream",
     "text": [
      "c:\\Users\\shett\\anaconda3\\envs\\langchain_env\\lib\\site-packages\\pinecone\\data\\index.py:1: TqdmWarning: IProgress not found. Please update jupyter and ipywidgets. See https://ipywidgets.readthedocs.io/en/stable/user_install.html\n",
      "  from tqdm.autonotebook import tqdm\n"
     ]
    }
   ],
   "source": [
    "from pinecone import Pinecone, ServerlessSpec\n",
    "from dotenv import load_dotenv, find_dotenv"
   ]
  },
  {
   "cell_type": "code",
   "execution_count": 8,
   "metadata": {},
   "outputs": [],
   "source": [
    "%load_ext dotenv \n",
    "%dotenv"
   ]
  },
  {
   "cell_type": "code",
   "execution_count": 9,
   "metadata": {},
   "outputs": [
    {
     "data": {
      "text/plain": [
       "True"
      ]
     },
     "execution_count": 9,
     "metadata": {},
     "output_type": "execute_result"
    }
   ],
   "source": [
    "load_dotenv(find_dotenv(), override=True)"
   ]
  },
  {
   "cell_type": "code",
   "execution_count": 10,
   "metadata": {},
   "outputs": [],
   "source": [
    "import pinecone\n",
    "import os"
   ]
  },
  {
   "cell_type": "code",
   "execution_count": 11,
   "metadata": {},
   "outputs": [],
   "source": [
    "pc= Pinecone(api_key = os.environ.get(\"PINECONE_API_KEY\"), environment = os.environ.get(\"PINECONE_ENV\"))"
   ]
  },
  {
   "cell_type": "code",
   "execution_count": 12,
   "metadata": {},
   "outputs": [],
   "source": [
    "index_name = 'my-index'\n",
    "dimension = 384,\n",
    "metric= \"cosine\""
   ]
  },
  {
   "cell_type": "code",
   "execution_count": 14,
   "metadata": {},
   "outputs": [
    {
     "name": "stdout",
     "output_type": "stream",
     "text": [
      "my-index succ deleted\n"
     ]
    }
   ],
   "source": [
    "if index_name in [index.name for index in pc.list_indexes()]:\n",
    "    pc.delete_index(index_name)\n",
    "    print(f\"{index_name} succ deleted\")\n",
    "else:\n",
    "    print(f\"{index_name} not in index list.\")"
   ]
  },
  {
   "cell_type": "code",
   "execution_count": 16,
   "metadata": {},
   "outputs": [],
   "source": [
    "pc.create_index(\n",
    "    name = index_name,\n",
    "    dimension = 384,\n",
    "    metric = metric,\n",
    "    spec= ServerlessSpec(\n",
    "        cloud = \"aws\",\n",
    "        region = \"us-east-1\"\n",
    "    )\n",
    ")"
   ]
  },
  {
   "cell_type": "code",
   "execution_count": 17,
   "metadata": {},
   "outputs": [],
   "source": [
    "index= pc.Index(index_name)"
   ]
  },
  {
   "cell_type": "code",
   "execution_count": 19,
   "metadata": {},
   "outputs": [],
   "source": [
    "#embedding algo"
   ]
  },
  {
   "cell_type": "code",
   "execution_count": 20,
   "metadata": {},
   "outputs": [],
   "source": [
    "from sentence_transformers import SentenceTransformer"
   ]
  },
  {
   "cell_type": "code",
   "execution_count": 21,
   "metadata": {},
   "outputs": [],
   "source": [
    "model = SentenceTransformer(\"all-MiniLM-L6-v2\")"
   ]
  },
  {
   "cell_type": "code",
   "execution_count": 23,
   "metadata": {},
   "outputs": [],
   "source": [
    "def create_embedding(row):\n",
    "    combined_text = ' '.join([str(row[field]) for field in ['course_description', 'course_description_new','course_description_short']])\n",
    "    embedding = model.encode(combined_text, show_progress_bar= False)\n",
    "    return embedding\n",
    "    "
   ]
  },
  {
   "cell_type": "code",
   "execution_count": 24,
   "metadata": {},
   "outputs": [],
   "source": [
    "files[\"embedding\"] = files.apply(create_embedding, axis = 1)"
   ]
  },
  {
   "cell_type": "code",
   "execution_count": 25,
   "metadata": {},
   "outputs": [
    {
     "name": "stdout",
     "output_type": "stream",
     "text": [
      "Data upserted to Pinecone Index\n"
     ]
    }
   ],
   "source": [
    "vectors_to_upsert = [(str(row[\"course_name\"]),row[\"embedding\"].tolist()) for _,row in files.iterrows()]\n",
    "print(\"Data upserted to Pinecone Index\")"
   ]
  },
  {
   "cell_type": "code",
   "execution_count": 26,
   "metadata": {},
   "outputs": [],
   "source": [
    "#Semantic Search"
   ]
  },
  {
   "cell_type": "code",
   "execution_count": 37,
   "metadata": {},
   "outputs": [],
   "source": [
    "query = \"clustering\"\n",
    "query_embedding = model.encode(query, show_progress_bar=False).tolist()"
   ]
  },
  {
   "cell_type": "code",
   "execution_count": 45,
   "metadata": {},
   "outputs": [],
   "source": [
    "query_results = index.query(\n",
    "    vector  = [query_embedding],\n",
    "    top_k = 1,\n",
    "    include_values= True\n",
    ")"
   ]
  },
  {
   "cell_type": "code",
   "execution_count": 46,
   "metadata": {},
   "outputs": [
    {
     "data": {
      "text/plain": [
       "{'matches': [], 'namespace': '', 'usage': {'read_units': 1}}"
      ]
     },
     "execution_count": 46,
     "metadata": {},
     "output_type": "execute_result"
    }
   ],
   "source": [
    "query_results"
   ]
  },
  {
   "cell_type": "code",
   "execution_count": 40,
   "metadata": {},
   "outputs": [],
   "source": [
    "for match in query_results[\"matches\"]:\n",
    "    print(f\"Matched item ID: {match['id']}, score: {match['score']}\")"
   ]
  },
  {
   "cell_type": "code",
   "execution_count": null,
   "metadata": {},
   "outputs": [],
   "source": []
  }
 ],
 "metadata": {
  "kernelspec": {
   "display_name": "langchain_env",
   "language": "python",
   "name": "python3"
  },
  "language_info": {
   "codemirror_mode": {
    "name": "ipython",
    "version": 3
   },
   "file_extension": ".py",
   "mimetype": "text/x-python",
   "name": "python",
   "nbconvert_exporter": "python",
   "pygments_lexer": "ipython3",
   "version": "3.9.20"
  }
 },
 "nbformat": 4,
 "nbformat_minor": 2
}
